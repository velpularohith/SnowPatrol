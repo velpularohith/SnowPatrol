{
 "cells": [
  {
   "attachments": {},
   "cell_type": "markdown",
   "id": "c0a66216",
   "metadata": {},
   "source": [
    "## Imports"
   ]
  },
  {
   "cell_type": "code",
   "execution_count": 53,
   "id": "a4262641",
   "metadata": {},
   "outputs": [
    {
     "name": "stdout",
     "output_type": "stream",
     "text": [
      "The autoreload extension is already loaded. To reload it, use:\n",
      "  %reload_ext autoreload\n"
     ]
    }
   ],
   "source": [
    "%load_ext autoreload\n",
    "%autoreload 2"
   ]
  },
  {
   "cell_type": "code",
   "execution_count": 54,
   "metadata": {},
   "outputs": [
    {
     "name": "stdout",
     "output_type": "stream",
     "text": [
      "Modules to reload:\n",
      "all-except-skipped\n",
      "\n",
      "Modules to skip:\n",
      "\n"
     ]
    }
   ],
   "source": [
    "%aimport"
   ]
  },
  {
   "cell_type": "code",
   "execution_count": 55,
   "id": "19d5e056-5096-473e-9ecd-1b7f56582122",
   "metadata": {
    "tags": []
   },
   "outputs": [],
   "source": [
    "import json\n",
    "from snowflake.snowpark.session import Session\n",
    "import snowflake.snowpark.functions as F\n",
    "import snowflake.snowpark.types as T\n",
    "from dotenv import find_dotenv\n",
    "from pathlib import Path\n",
    "import sys\n",
    "\n",
    "project_home = Path(find_dotenv()).parent\n",
    "sys.path.append(str(project_home))\n",
    "\n",
    "from constants import *\n"
   ]
  },
  {
   "attachments": {},
   "cell_type": "markdown",
   "id": "c198a317",
   "metadata": {},
   "source": [
    "## Data Pipline"
   ]
  },
  {
   "attachments": {},
   "cell_type": "markdown",
   "id": "4188b7f7",
   "metadata": {},
   "source": [
    "### Snowpark Session"
   ]
  },
  {
   "cell_type": "code",
   "execution_count": 56,
   "id": "9b14f766",
   "metadata": {},
   "outputs": [],
   "source": [
    "with open(project_home / 'config/creds.json', 'r') as ff:\n",
    "    conn_param=json.load(ff)\n",
    "\n",
    "session = Session.builder.configs(conn_param).create() \n"
   ]
  },
  {
   "attachments": {},
   "cell_type": "markdown",
   "id": "77f2cbd0",
   "metadata": {},
   "source": [
    "### Database, Schema & resource creation"
   ]
  },
  {
   "cell_type": "code",
   "execution_count": 57,
   "id": "dabbd4cd",
   "metadata": {},
   "outputs": [
    {
     "data": {
      "text/plain": [
       "[Row(status='FF_CSV_WITH_HEADER already exists, statement succeeded.')]"
      ]
     },
     "execution_count": 57,
     "metadata": {},
     "output_type": "execute_result"
    }
   ],
   "source": [
    "session.sql(f\"create database if not exists {SNOWPATROL_DB}\").collect()\n",
    "session.sql(f\"create schema if not exists {SNOWPATROL_DB}.{SNOWPATROL_SCHEMA}\").collect()\n",
    "session.sql(f\"create stage if not exists {SNOWPATROL_DB}.{SNOWPATROL_SCHEMA}.{DATA_STAGE}\").collect()\n",
    "session.sql(f\"create stage if not exists {SNOWPATROL_DB}.{SNOWPATROL_SCHEMA}.{DEPS_STAGE}\").collect()\n",
    "session.sql(f\"create stage if not exists {SNOWPATROL_DB}.{SNOWPATROL_SCHEMA}.{MODELS_STAGE}\").collect()\n",
    "session.sql(f\"create stage if not exists {SNOWPATROL_DB}.{SNOWPATROL_SCHEMA}.{OBJECT_STAGE}\").collect()\n",
    "\n",
    "# This File Format uses a special option available for CSV schema inference\n",
    "session.sql(f\"create file format if not exists {SNOWPATROL_DB}.{SNOWPATROL_SCHEMA}.ff_csv_with_header type=CSV parse_header=TRUE field_optionally_enclosed_by='\\\"'\").collect()"
   ]
  },
  {
   "attachments": {},
   "cell_type": "markdown",
   "id": "d05adae2",
   "metadata": {},
   "source": [
    "### Sample data upload"
   ]
  },
  {
   "cell_type": "code",
   "execution_count": 58,
   "id": "dfcb38b2",
   "metadata": {},
   "outputs": [
    {
     "data": {
      "text/plain": [
       "[Row(source='monitored_apps.csv', target='monitored_apps.csv.gz', source_size=64, target_size=112, source_compression='NONE', target_compression='GZIP', status='UPLOADED', message='')]"
      ]
     },
     "execution_count": 58,
     "metadata": {},
     "output_type": "execute_result"
    }
   ],
   "source": [
    "data_dir = project_home / \"data\" \n",
    "session.sql(f\"PUT file://{project_home}/data/obfuscated/* @{SNOWPATROL_DB}.{SNOWPATROL_SCHEMA}.{DATA_STAGE} overwrite=True auto_compress=True\").collect()\n",
    "session.sql(f\"PUT file://{project_home}/data/generated/whitelisted_users.csv @{SNOWPATROL_DB}.{SNOWPATROL_SCHEMA}.{DATA_STAGE} overwrite=True auto_compress=True\").collect()\n",
    "session.sql(f\"PUT file://{project_home}/data/generated/sample_okta_logs.csv @{SNOWPATROL_DB}.{SNOWPATROL_SCHEMA}.{DATA_STAGE} overwrite=True auto_compress=True\").collect()\n",
    "session.sql(f\"PUT file://{project_home}/data/generated/monitored_apps.csv @{SNOWPATROL_DB}.{SNOWPATROL_SCHEMA}.{DATA_STAGE} overwrite=True auto_compress=True\").collect()\n",
    "\n"
   ]
  },
  {
   "cell_type": "code",
   "execution_count": 59,
   "id": "c5189fbc",
   "metadata": {},
   "outputs": [
    {
     "data": {
      "text/plain": [
       "[Row(source='constants.py', target='constants.py', source_size=558, target_size=560, source_compression='NONE', target_compression='NONE', status='UPLOADED', message='')]"
      ]
     },
     "execution_count": 59,
     "metadata": {},
     "output_type": "execute_result"
    }
   ],
   "source": [
    "\n",
    "session.sql(f\"PUT file://{project_home}/src/python/snowpatrol/train.py @{SNOWPATROL_DB}.{SNOWPATROL_SCHEMA}.{DEPS_STAGE} overwrite=True auto_compress=False\").collect()\n",
    "session.sql(f\"PUT file://{project_home}/src/python/snowpatrol/constants.py @{SNOWPATROL_DB}.{SNOWPATROL_SCHEMA}.{DEPS_STAGE} overwrite=True auto_compress=False\").collect()"
   ]
  },
  {
   "attachments": {},
   "cell_type": "markdown",
   "id": "fc8ae9f0",
   "metadata": {},
   "source": [
    "### Table creation to hold source data - FP data\n",
    "\n",
    "> Note: Uses Schema detection on CSV"
   ]
  },
  {
   "cell_type": "code",
   "execution_count": 60,
   "id": "1bd03acf",
   "metadata": {},
   "outputs": [
    {
     "data": {
      "text/plain": [
       "[Row(status='WHITELISTED_USERS already exists, statement succeeded.')]"
      ]
     },
     "execution_count": 60,
     "metadata": {},
     "output_type": "execute_result"
    }
   ],
   "source": [
    "session.sql(\n",
    "    f\"\"\"\n",
    "    CREATE TABLE IF NOT EXISTS {SNOWPATROL_DB}.{SNOWPATROL_SCHEMA}.{TBL_MONITORED_APPS}\n",
    "    USING TEMPLATE (\n",
    "    SELECT ARRAY_AGG(OBJECT_CONSTRUCT(*))\n",
    "      FROM TABLE(\n",
    "        INFER_SCHEMA(\n",
    "          LOCATION=>'@{SNOWPATROL_DB}.{SNOWPATROL_SCHEMA}.{DATA_STAGE}/monitored_apps.csv',\n",
    "          FILE_FORMAT=>'snowpatrol.main.ff_csv_with_header',\n",
    "          IGNORE_CASE => TRUE\n",
    "        )\n",
    "      ))\n",
    "    \"\"\"\n",
    ").collect()\n",
    "\n",
    "session.sql(\n",
    "    f\"\"\"\n",
    "    CREATE TABLE IF NOT EXISTS {SNOWPATROL_DB}.{SNOWPATROL_SCHEMA}.{TBL_OKTA_USERS}\n",
    "    USING TEMPLATE (\n",
    "    SELECT ARRAY_AGG(OBJECT_CONSTRUCT(*))\n",
    "      FROM TABLE(\n",
    "        INFER_SCHEMA(\n",
    "          LOCATION=>'@{SNOWPATROL_DB}.{SNOWPATROL_SCHEMA}.{DATA_STAGE}/sample_okta_logs.csv',\n",
    "          FILE_FORMAT=>'snowpatrol.main.ff_csv_with_header',\n",
    "          IGNORE_CASE => TRUE\n",
    "        )\n",
    "      ))\n",
    "    \"\"\"\n",
    ").collect()\n",
    "\n",
    "session.sql(\n",
    "    f\"\"\"\n",
    "    CREATE TABLE IF NOT EXISTS {SNOWPATROL_DB}.{SNOWPATROL_SCHEMA}.{TBL_APP_LOGS}\n",
    "    USING TEMPLATE (\n",
    "    SELECT ARRAY_AGG(OBJECT_CONSTRUCT(*))\n",
    "      FROM TABLE(\n",
    "        INFER_SCHEMA(\n",
    "          LOCATION=>'@{SNOWPATROL_DB}.{SNOWPATROL_SCHEMA}.{DATA_STAGE}/SnowPatrol_validation_data_app1 _.csv',\n",
    "          FILE_FORMAT=>'snowpatrol.main.ff_csv_with_header',\n",
    "          IGNORE_CASE => TRUE\n",
    "        )\n",
    "      ))\n",
    "    \"\"\"\n",
    ").collect()\n",
    "\n",
    "session.sql(\n",
    "    f\"\"\"\n",
    "    CREATE TABLE IF NOT EXISTS {SNOWPATROL_DB}.{SNOWPATROL_SCHEMA}.{TBL_WORK_DAYS}\n",
    "    USING TEMPLATE (\n",
    "    SELECT ARRAY_AGG(OBJECT_CONSTRUCT(*))\n",
    "      FROM TABLE(\n",
    "        INFER_SCHEMA(\n",
    "          LOCATION=>'@{SNOWPATROL_DB}.{SNOWPATROL_SCHEMA}.{DATA_STAGE}/SnowPatrol_Working_Days.csv',\n",
    "          FILE_FORMAT=>'snowpatrol.main.ff_csv_with_header',\n",
    "          IGNORE_CASE => TRUE\n",
    "        )\n",
    "      ))\n",
    "    \"\"\"\n",
    ").collect()\n",
    "\n",
    "session.sql(\n",
    "    f\"\"\"\n",
    "    CREATE TABLE IF NOT EXISTS {SNOWPATROL_DB}.{SNOWPATROL_SCHEMA}.{TBL_EMPLOYEE_METADATA}\n",
    "    USING TEMPLATE (\n",
    "    SELECT ARRAY_AGG(OBJECT_CONSTRUCT(*))\n",
    "      FROM TABLE(\n",
    "        INFER_SCHEMA(\n",
    "          LOCATION=>'@{SNOWPATROL_DB}.{SNOWPATROL_SCHEMA}.{DATA_STAGE}/SnowPatrol_validation_emp_details_app1.csv',\n",
    "          FILE_FORMAT=>'snowpatrol.main.ff_csv_with_header',\n",
    "          IGNORE_CASE => TRUE\n",
    "        )\n",
    "      ))\n",
    "    \"\"\"\n",
    ").collect()\n",
    "\n",
    "session.sql(\n",
    "    f\"\"\"\n",
    "    CREATE TABLE IF NOT EXISTS {SNOWPATROL_DB}.{SNOWPATROL_SCHEMA}.{TBL_WHITELISTED_USERS}\n",
    "    USING TEMPLATE (\n",
    "    SELECT ARRAY_AGG(OBJECT_CONSTRUCT(*))\n",
    "      FROM TABLE(\n",
    "        INFER_SCHEMA(\n",
    "          LOCATION=>'@{SNOWPATROL_DB}.{SNOWPATROL_SCHEMA}.{DATA_STAGE}/whitelisted_users.csv',\n",
    "          FILE_FORMAT=>'snowpatrol.main.ff_csv_with_header',\n",
    "          IGNORE_CASE => TRUE\n",
    "        )\n",
    "      ))\n",
    "    \"\"\"\n",
    ").collect()"
   ]
  },
  {
   "attachments": {},
   "cell_type": "markdown",
   "id": "5995397e",
   "metadata": {},
   "source": [
    "### Copying data into respective source tables"
   ]
  },
  {
   "cell_type": "code",
   "execution_count": 61,
   "id": "f0fabc1c",
   "metadata": {},
   "outputs": [
    {
     "data": {
      "text/plain": [
       "[Row(file='data/whitelisted_users.csv.gz', status='LOADED', rows_parsed=1, rows_loaded=1, error_limit=1, errors_seen=0, first_error=None, first_error_line=None, first_error_character=None, first_error_column_name=None)]"
      ]
     },
     "execution_count": 61,
     "metadata": {},
     "output_type": "execute_result"
    }
   ],
   "source": [
    "session.sql(f\"TRUNCATE TABLE {SNOWPATROL_DB}.{SNOWPATROL_SCHEMA}.{TBL_MONITORED_APPS}\").collect()\n",
    "session.sql(\n",
    "    f\"\"\" \n",
    "    copy into {SNOWPATROL_DB}.{SNOWPATROL_SCHEMA}.{TBL_MONITORED_APPS}\n",
    "    from @{SNOWPATROL_DB}.{SNOWPATROL_SCHEMA}.{DATA_STAGE}\n",
    "    files = ('monitored_apps.csv.gz') \n",
    "    file_format = (type = CSV skip_header=1 field_optionally_enclosed_by='\"')\n",
    "\"\"\").collect()\n",
    "\n",
    "session.sql(f\"TRUNCATE TABLE {SNOWPATROL_DB}.{SNOWPATROL_SCHEMA}.{TBL_OKTA_USERS}\").collect()\n",
    "session.sql(\n",
    "    f\"\"\" \n",
    "    copy into {SNOWPATROL_DB}.{SNOWPATROL_SCHEMA}.{TBL_OKTA_USERS}\n",
    "    from @{SNOWPATROL_DB}.{SNOWPATROL_SCHEMA}.{DATA_STAGE}\n",
    "    files = ('sample_okta_logs.csv.gz') \n",
    "    file_format = (type = CSV skip_header=1 field_optionally_enclosed_by='\"')\n",
    "\"\"\").collect()\n",
    "\n",
    "session.sql(f\"TRUNCATE TABLE {SNOWPATROL_DB}.{SNOWPATROL_SCHEMA}.{TBL_APP_LOGS}\").collect()\n",
    "\n",
    "session.sql(\n",
    "    f\"\"\" \n",
    "    copy into {SNOWPATROL_DB}.{SNOWPATROL_SCHEMA}.{TBL_APP_LOGS}\n",
    "    from @{SNOWPATROL_DB}.{SNOWPATROL_SCHEMA}.{DATA_STAGE}\n",
    "    files = ('SnowPatrol_validation_data_app1 _.csv.gz', 'SnowPatrol_validation_data_app2 _.csv.gz', 'SnowPatrol_validation_data_app3 _.csv.gz','SnowPatrol_validation_data_app4 _.csv.gz')\n",
    "    file_format = (type = CSV skip_header=1 field_optionally_enclosed_by='\"')\n",
    "\"\"\").collect()\n",
    "\n",
    "# Sample work days table - company schedule of whether each day is a work day or not\n",
    "session.sql(f\"TRUNCATE TABLE {SNOWPATROL_DB}.{SNOWPATROL_SCHEMA}.{TBL_WORK_DAYS}\").collect()\n",
    "\n",
    "session.sql(\n",
    "    f\"\"\" \n",
    "    copy into {SNOWPATROL_DB}.{SNOWPATROL_SCHEMA}.{TBL_WORK_DAYS}\n",
    "    from @{SNOWPATROL_DB}.{SNOWPATROL_SCHEMA}.{DATA_STAGE}\n",
    "    files = ('SnowPatrol_Working_Days.csv.gz')\n",
    "    file_format = (type = CSV skip_header=1 field_optionally_enclosed_by='\"')\n",
    "\"\"\").collect()\n",
    "\n",
    "session.sql(f\"TRUNCATE TABLE {SNOWPATROL_DB}.{SNOWPATROL_SCHEMA}.{TBL_EMPLOYEE_METADATA}\").collect()\n",
    "\n",
    "session.sql(\n",
    "    f\"\"\" \n",
    "    copy into {SNOWPATROL_DB}.{SNOWPATROL_SCHEMA}.{TBL_EMPLOYEE_METADATA}\n",
    "    from @{SNOWPATROL_DB}.{SNOWPATROL_SCHEMA}.{DATA_STAGE}\n",
    "    files = ('SnowPatrol_validation_emp_details_app1.csv.gz','SnowPatrol_validation_emp_details_app2.csv.gz','SnowPatrol_validation_emp_details_app3.csv.gz','SnowPatrol_validation_emp_details_app4.csv.gz')\n",
    "    file_format = (type = CSV skip_header=1 field_optionally_enclosed_by='\"')\n",
    "\"\"\").collect()\n",
    "\n",
    "session.sql(\n",
    "    f\"\"\" \n",
    "    copy into {SNOWPATROL_DB}.{SNOWPATROL_SCHEMA}.{TBL_WHITELISTED_USERS}\n",
    "    from @{SNOWPATROL_DB}.{SNOWPATROL_SCHEMA}.{DATA_STAGE}\n",
    "    files = ('whitelisted_users.csv.gz') \n",
    "    file_format = (type = CSV skip_header=1 field_optionally_enclosed_by='\"')\n",
    "\"\"\").collect()"
   ]
  },
  {
   "attachments": {},
   "cell_type": "markdown",
   "id": "29ab4816",
   "metadata": {},
   "source": [
    "### Local utility functions"
   ]
  },
  {
   "cell_type": "code",
   "execution_count": 62,
   "id": "0aa2b2a1",
   "metadata": {},
   "outputs": [
    {
     "data": {
      "text/plain": [
       "<snowflake.snowpark.udf.UserDefinedFunction at 0x1fd80077ee0>"
      ]
     },
     "execution_count": 62,
     "metadata": {},
     "output_type": "execute_result"
    }
   ],
   "source": [
    "session.sql('use database snowpatrol').collect()\n",
    "session.udf.register_from_file(\n",
    "      file_path=\"train.py\"\n",
    "      , func_name=\"contains_anyof\"\n",
    "      , name=f\"{SNOWPATROL_DB}.{SNOWPATROL_SCHEMA}.udf_contains_anyof\"\n",
    "      , is_permanent=True\n",
    "      , packages = [\"snowflake-snowpark-python\"]\n",
    "      , imports=[f\"@{SNOWPATROL_DB}.{SNOWPATROL_SCHEMA}.{DEPS_STAGE}/constants.py\"]\n",
    "      , stage_location=f\"{SNOWPATROL_DB}.{SNOWPATROL_SCHEMA}.{OBJECT_STAGE}\"\n",
    "      , replace=True\n",
    ")"
   ]
  },
  {
   "attachments": {},
   "cell_type": "markdown",
   "id": "46b6077d",
   "metadata": {},
   "source": [
    "### Model Training"
   ]
  },
  {
   "cell_type": "code",
   "execution_count": 63,
   "id": "51681e96",
   "metadata": {},
   "outputs": [
    {
     "name": "stderr",
     "output_type": "stream",
     "text": [
      "The version of package 'joblib' in the local environment is 1.3.2, which does not fit the criteria for the requirement 'joblib==1.1.1'. Your UDF might not work when the package version is different between the server and your local environment.\n"
     ]
    },
    {
     "data": {
      "text/plain": [
       "<snowflake.snowpark.stored_procedure.StoredProcedure at 0x1fd80203b20>"
      ]
     },
     "execution_count": 63,
     "metadata": {},
     "output_type": "execute_result"
    }
   ],
   "source": [
    "session.sproc.register_from_file(\n",
    "    file_path = f\"@{SNOWPATROL_DB}.{SNOWPATROL_SCHEMA}.{DEPS_STAGE}/train.py\"\n",
    "    ,func_name = \"run_model_today\"\n",
    "    ,name=f\"{SNOWPATROL_DB}.{SNOWPATROL_SCHEMA}.run_model_today\"\n",
    "    ,input_types=[T.IntegerType(),T.IntegerType(),T.FloatType(),T.BooleanType(),T.BooleanType(),T.BooleanType(), T.BooleanType()]\n",
    "    ,return_type=T.VariantType()\n",
    "    ,is_permanent=True\n",
    "    ,replace=True\n",
    "    ,stage_location=f\"@{SNOWPATROL_DB}.{SNOWPATROL_SCHEMA}.{OBJECT_STAGE}\"\n",
    "    ,packages=['snowflake-snowpark-python','pandas','scikit-learn==1.2.1','joblib==1.1.1', 'numpy']\n",
    "    ,imports=[f\"@{SNOWPATROL_DB}.{SNOWPATROL_SCHEMA}.{DEPS_STAGE}/constants.py\"]\n",
    ")"
   ]
  },
  {
   "attachments": {},
   "cell_type": "markdown",
   "id": "04883492",
   "metadata": {},
   "source": [
    "## License usage probablity prediction with revocation decision\n",
    "Local trigger"
   ]
  },
  {
   "cell_type": "code",
   "execution_count": 64,
   "id": "b0528570",
   "metadata": {},
   "outputs": [],
   "source": [
    "# %%time\n",
    "# from train import run_model_today\n",
    "# results = session.call('run_model_today', 1,45,0.5,False,False,False,False)\n",
    "# display(results)"
   ]
  },
  {
   "cell_type": "code",
   "execution_count": 65,
   "id": "0b90e200",
   "metadata": {},
   "outputs": [],
   "source": [
    "# license_prediction_feature_set = session.table(f\"{SNOWPATROL_DB}.{SNOWPATROL_SCHEMA}.license_prediction_feature_set\")\n",
    "# license_usage_probability = license_prediction_feature_set.select(\n",
    "#     F.col(\"session_user\")\n",
    "#     , F.col(\"title\")\n",
    "#     , F.col(\"department\")\n",
    "#     , F.col(\"division\")\n",
    "#     , F.col(\"work_days_since_last_login\")\n",
    "#     ,F.col(\"training_date\").alias(\"model_trained_on\")\n",
    "#     ,F.col(\"cutoff_date\")\n",
    "#     , F.call_udf(f\"{SNOWPATROL_DB}.{SNOWPATROL_SCHEMA}.udf_predict_login_probability\", *[F.col(c) for c in [\"weighted_authentications_per_day\",\"work_days_since_last_login\", 'authentications_per_day', 'log_work_days_since_last_login']]).alias(\"probability_no_login\")\n",
    "# )\n",
    "# license_revocation_decision = license_usage_probability.with_column(\"revoke_access\", F.iff(F.col(\"probability_no_login\") > 0.5, 1, 0))\n",
    "\n",
    "# license_revocation_decision.write.mode(\"overwrite\").save_as_table(f\"{SNOWPATROL_DB}.{SNOWPATROL_SCHEMA}.license_revocation_decision\")"
   ]
  },
  {
   "cell_type": "code",
   "execution_count": null,
   "id": "891bd68c",
   "metadata": {},
   "outputs": [],
   "source": []
  }
 ],
 "metadata": {
  "kernelspec": {
   "display_name": "Python 3 (ipykernel)",
   "language": "python",
   "name": "python3"
  },
  "language_info": {
   "codemirror_mode": {
    "name": "ipython",
    "version": 3
   },
   "file_extension": ".py",
   "mimetype": "text/x-python",
   "name": "python",
   "nbconvert_exporter": "python",
   "pygments_lexer": "ipython3",
   "version": "3.10.11"
  }
 },
 "nbformat": 4,
 "nbformat_minor": 5
}
